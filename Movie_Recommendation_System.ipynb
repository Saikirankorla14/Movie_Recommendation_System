{
  "nbformat": 4,
  "nbformat_minor": 0,
  "metadata": {
    "colab": {
      "provenance": []
    },
    "kernelspec": {
      "name": "python3",
      "display_name": "Python 3"
    },
    "language_info": {
      "name": "python"
    }
  },
  "cells": [
    {
      "cell_type": "code",
      "execution_count": null,
      "metadata": {
        "id": "vWZ5KLT3OO8l"
      },
      "outputs": [],
      "source": []
    },
    {
      "cell_type": "markdown",
      "metadata": {
        "id": "36cbe2b5"
      },
      "source": [
        "# Task\n",
        "Build a simple movie/book recommendation system using collaborative filtering (e.g., with surprise library in Python)."
      ]
    },
    {
      "cell_type": "markdown",
      "metadata": {
        "id": "f3556ef7"
      },
      "source": [
        "## Setup\n",
        "\n",
        "### Subtask:\n",
        "Install the necessary libraries, such as `surprise`.\n"
      ]
    },
    {
      "cell_type": "markdown",
      "metadata": {
        "id": "ad7e0813"
      },
      "source": [
        "**Reasoning**:\n",
        "The subtask is to install the `surprise` library. I will use pip to install it.\n",
        "\n"
      ]
    },
    {
      "cell_type": "code",
      "metadata": {
        "colab": {
          "base_uri": "https://localhost:8080/"
        },
        "id": "0cf24c3a",
        "outputId": "f5531f14-88eb-4a2c-8bd4-d0490dc300ac"
      },
      "source": [
        "%pip install surprise"
      ],
      "execution_count": 1,
      "outputs": [
        {
          "output_type": "stream",
          "name": "stdout",
          "text": [
            "Collecting surprise\n",
            "  Downloading surprise-0.1-py2.py3-none-any.whl.metadata (327 bytes)\n",
            "Collecting scikit-surprise (from surprise)\n",
            "  Downloading scikit_surprise-1.1.4.tar.gz (154 kB)\n",
            "\u001b[2K     \u001b[90m━━━━━━━━━━━━━━━━━━━━━━━━━━━━━━━━━━━━━━━\u001b[0m \u001b[32m154.4/154.4 kB\u001b[0m \u001b[31m2.8 MB/s\u001b[0m eta \u001b[36m0:00:00\u001b[0m\n",
            "\u001b[?25h  Installing build dependencies ... \u001b[?25l\u001b[?25hdone\n",
            "  Getting requirements to build wheel ... \u001b[?25l\u001b[?25hdone\n",
            "  Preparing metadata (pyproject.toml) ... \u001b[?25l\u001b[?25hdone\n",
            "Requirement already satisfied: joblib>=1.2.0 in /usr/local/lib/python3.11/dist-packages (from scikit-surprise->surprise) (1.5.1)\n",
            "Requirement already satisfied: numpy>=1.19.5 in /usr/local/lib/python3.11/dist-packages (from scikit-surprise->surprise) (2.0.2)\n",
            "Requirement already satisfied: scipy>=1.6.0 in /usr/local/lib/python3.11/dist-packages (from scikit-surprise->surprise) (1.15.3)\n",
            "Downloading surprise-0.1-py2.py3-none-any.whl (1.8 kB)\n",
            "Building wheels for collected packages: scikit-surprise\n",
            "  Building wheel for scikit-surprise (pyproject.toml) ... \u001b[?25l\u001b[?25hdone\n",
            "  Created wheel for scikit-surprise: filename=scikit_surprise-1.1.4-cp311-cp311-linux_x86_64.whl size=2469556 sha256=a7cc67b1e8b93249d66a34c40589d99c404d75ea4f0f3796472ba56084337fe9\n",
            "  Stored in directory: /root/.cache/pip/wheels/2a/8f/6e/7e2899163e2d85d8266daab4aa1cdabec7a6c56f83c015b5af\n",
            "Successfully built scikit-surprise\n",
            "Installing collected packages: scikit-surprise, surprise\n",
            "Successfully installed scikit-surprise-1.1.4 surprise-0.1\n"
          ]
        }
      ]
    },
    {
      "cell_type": "markdown",
      "metadata": {
        "id": "8d803a41"
      },
      "source": [
        "## Data loading\n",
        "\n",
        "### Subtask:\n",
        "Load the dataset containing user ratings for movies or books.\n"
      ]
    },
    {
      "cell_type": "markdown",
      "metadata": {
        "id": "ce8d85be"
      },
      "source": [
        "**Reasoning**:\n",
        "Import necessary classes from surprise and load the 'ml-100k' dataset using a Reader with a rating scale of (1, 5).\n",
        "\n"
      ]
    },
    {
      "cell_type": "code",
      "metadata": {
        "colab": {
          "base_uri": "https://localhost:8080/",
          "height": 1000
        },
        "id": "e43edb6f",
        "outputId": "b091f0a7-f342-420b-b8a5-6504ac8dbaf9"
      },
      "source": [
        "from surprise import Dataset, Reader\n",
        "\n",
        "reader = Reader(rating_scale=(1, 5))\n",
        "data = Dataset.load_builtin('ml-100k', reader)"
      ],
      "execution_count": 2,
      "outputs": [
        {
          "output_type": "stream",
          "name": "stderr",
          "text": [
            "\n",
            "A module that was compiled using NumPy 1.x cannot be run in\n",
            "NumPy 2.0.2 as it may crash. To support both 1.x and 2.x\n",
            "versions of NumPy, modules must be compiled with NumPy 2.0.\n",
            "Some module may need to rebuild instead e.g. with 'pybind11>=2.12'.\n",
            "\n",
            "If you are a user of the module, the easiest solution will be to\n",
            "downgrade to 'numpy<2' or try to upgrade the affected module.\n",
            "We expect that some modules will need time to support NumPy 2.\n",
            "\n",
            "Traceback (most recent call last):  File \"<frozen runpy>\", line 198, in _run_module_as_main\n",
            "  File \"<frozen runpy>\", line 88, in _run_code\n",
            "  File \"/usr/local/lib/python3.11/dist-packages/colab_kernel_launcher.py\", line 37, in <module>\n",
            "    ColabKernelApp.launch_instance()\n",
            "  File \"/usr/local/lib/python3.11/dist-packages/traitlets/config/application.py\", line 992, in launch_instance\n",
            "    app.start()\n",
            "  File \"/usr/local/lib/python3.11/dist-packages/ipykernel/kernelapp.py\", line 712, in start\n",
            "    self.io_loop.start()\n",
            "  File \"/usr/local/lib/python3.11/dist-packages/tornado/platform/asyncio.py\", line 205, in start\n",
            "    self.asyncio_loop.run_forever()\n",
            "  File \"/usr/lib/python3.11/asyncio/base_events.py\", line 608, in run_forever\n",
            "    self._run_once()\n",
            "  File \"/usr/lib/python3.11/asyncio/base_events.py\", line 1936, in _run_once\n",
            "    handle._run()\n",
            "  File \"/usr/lib/python3.11/asyncio/events.py\", line 84, in _run\n",
            "    self._context.run(self._callback, *self._args)\n",
            "  File \"/usr/local/lib/python3.11/dist-packages/ipykernel/kernelbase.py\", line 510, in dispatch_queue\n",
            "    await self.process_one()\n",
            "  File \"/usr/local/lib/python3.11/dist-packages/ipykernel/kernelbase.py\", line 499, in process_one\n",
            "    await dispatch(*args)\n",
            "  File \"/usr/local/lib/python3.11/dist-packages/ipykernel/kernelbase.py\", line 406, in dispatch_shell\n",
            "    await result\n",
            "  File \"/usr/local/lib/python3.11/dist-packages/ipykernel/kernelbase.py\", line 730, in execute_request\n",
            "    reply_content = await reply_content\n",
            "  File \"/usr/local/lib/python3.11/dist-packages/ipykernel/ipkernel.py\", line 383, in do_execute\n",
            "    res = shell.run_cell(\n",
            "  File \"/usr/local/lib/python3.11/dist-packages/ipykernel/zmqshell.py\", line 528, in run_cell\n",
            "    return super().run_cell(*args, **kwargs)\n",
            "  File \"/usr/local/lib/python3.11/dist-packages/IPython/core/interactiveshell.py\", line 2975, in run_cell\n",
            "    result = self._run_cell(\n",
            "  File \"/usr/local/lib/python3.11/dist-packages/IPython/core/interactiveshell.py\", line 3030, in _run_cell\n",
            "    return runner(coro)\n",
            "  File \"/usr/local/lib/python3.11/dist-packages/IPython/core/async_helpers.py\", line 78, in _pseudo_sync_runner\n",
            "    coro.send(None)\n",
            "  File \"/usr/local/lib/python3.11/dist-packages/IPython/core/interactiveshell.py\", line 3257, in run_cell_async\n",
            "    has_raised = await self.run_ast_nodes(code_ast.body, cell_name,\n",
            "  File \"/usr/local/lib/python3.11/dist-packages/IPython/core/interactiveshell.py\", line 3473, in run_ast_nodes\n",
            "    if (await self.run_code(code, result,  async_=asy)):\n",
            "  File \"/usr/local/lib/python3.11/dist-packages/IPython/core/interactiveshell.py\", line 3553, in run_code\n",
            "    exec(code_obj, self.user_global_ns, self.user_ns)\n",
            "  File \"/tmp/ipython-input-2-1198526538.py\", line 1, in <cell line: 0>\n",
            "    from surprise import Dataset, Reader\n",
            "  File \"/usr/local/lib/python3.11/dist-packages/surprise/__init__.py\", line 6, in <module>\n",
            "    from .prediction_algorithms import (\n",
            "  File \"/usr/local/lib/python3.11/dist-packages/surprise/prediction_algorithms/__init__.py\", line 23, in <module>\n",
            "    from .algo_base import AlgoBase\n",
            "  File \"/usr/local/lib/python3.11/dist-packages/surprise/prediction_algorithms/algo_base.py\", line 8, in <module>\n",
            "    from .. import similarities as sims\n"
          ]
        },
        {
          "output_type": "error",
          "ename": "ImportError",
          "evalue": "numpy.core.multiarray failed to import (auto-generated because you didn't call 'numpy.import_array()' after cimporting numpy; use '<void>numpy._import_array' to disable if you are certain you don't need it).",
          "traceback": [
            "\u001b[0;31m---------------------------------------------------------------------------\u001b[0m",
            "\u001b[0;31mImportError\u001b[0m                               Traceback (most recent call last)",
            "\u001b[0;32m/tmp/ipython-input-2-1198526538.py\u001b[0m in \u001b[0;36m<cell line: 0>\u001b[0;34m()\u001b[0m\n\u001b[0;32m----> 1\u001b[0;31m \u001b[0;32mfrom\u001b[0m \u001b[0msurprise\u001b[0m \u001b[0;32mimport\u001b[0m \u001b[0mDataset\u001b[0m\u001b[0;34m,\u001b[0m \u001b[0mReader\u001b[0m\u001b[0;34m\u001b[0m\u001b[0;34m\u001b[0m\u001b[0m\n\u001b[0m\u001b[1;32m      2\u001b[0m \u001b[0;34m\u001b[0m\u001b[0m\n\u001b[1;32m      3\u001b[0m \u001b[0mreader\u001b[0m \u001b[0;34m=\u001b[0m \u001b[0mReader\u001b[0m\u001b[0;34m(\u001b[0m\u001b[0mrating_scale\u001b[0m\u001b[0;34m=\u001b[0m\u001b[0;34m(\u001b[0m\u001b[0;36m1\u001b[0m\u001b[0;34m,\u001b[0m \u001b[0;36m5\u001b[0m\u001b[0;34m)\u001b[0m\u001b[0;34m)\u001b[0m\u001b[0;34m\u001b[0m\u001b[0;34m\u001b[0m\u001b[0m\n\u001b[1;32m      4\u001b[0m \u001b[0mdata\u001b[0m \u001b[0;34m=\u001b[0m \u001b[0mDataset\u001b[0m\u001b[0;34m.\u001b[0m\u001b[0mload_builtin\u001b[0m\u001b[0;34m(\u001b[0m\u001b[0;34m'ml-100k'\u001b[0m\u001b[0;34m,\u001b[0m \u001b[0mreader\u001b[0m\u001b[0;34m)\u001b[0m\u001b[0;34m\u001b[0m\u001b[0;34m\u001b[0m\u001b[0m\n",
            "\u001b[0;32m/usr/local/lib/python3.11/dist-packages/surprise/__init__.py\u001b[0m in \u001b[0;36m<module>\u001b[0;34m\u001b[0m\n\u001b[1;32m      4\u001b[0m \u001b[0;32mfrom\u001b[0m \u001b[0;34m.\u001b[0m\u001b[0mdataset\u001b[0m \u001b[0;32mimport\u001b[0m \u001b[0mDataset\u001b[0m\u001b[0;34m\u001b[0m\u001b[0;34m\u001b[0m\u001b[0m\n\u001b[1;32m      5\u001b[0m \u001b[0;34m\u001b[0m\u001b[0m\n\u001b[0;32m----> 6\u001b[0;31m from .prediction_algorithms import (\n\u001b[0m\u001b[1;32m      7\u001b[0m     \u001b[0mAlgoBase\u001b[0m\u001b[0;34m,\u001b[0m\u001b[0;34m\u001b[0m\u001b[0;34m\u001b[0m\u001b[0m\n\u001b[1;32m      8\u001b[0m     \u001b[0mBaselineOnly\u001b[0m\u001b[0;34m,\u001b[0m\u001b[0;34m\u001b[0m\u001b[0;34m\u001b[0m\u001b[0m\n",
            "\u001b[0;32m/usr/local/lib/python3.11/dist-packages/surprise/prediction_algorithms/__init__.py\u001b[0m in \u001b[0;36m<module>\u001b[0;34m\u001b[0m\n\u001b[1;32m     21\u001b[0m \"\"\"\n\u001b[1;32m     22\u001b[0m \u001b[0;34m\u001b[0m\u001b[0m\n\u001b[0;32m---> 23\u001b[0;31m \u001b[0;32mfrom\u001b[0m \u001b[0;34m.\u001b[0m\u001b[0malgo_base\u001b[0m \u001b[0;32mimport\u001b[0m \u001b[0mAlgoBase\u001b[0m\u001b[0;34m\u001b[0m\u001b[0;34m\u001b[0m\u001b[0m\n\u001b[0m\u001b[1;32m     24\u001b[0m \u001b[0;32mfrom\u001b[0m \u001b[0;34m.\u001b[0m\u001b[0mbaseline_only\u001b[0m \u001b[0;32mimport\u001b[0m \u001b[0mBaselineOnly\u001b[0m\u001b[0;34m\u001b[0m\u001b[0;34m\u001b[0m\u001b[0m\n\u001b[1;32m     25\u001b[0m \u001b[0;32mfrom\u001b[0m \u001b[0;34m.\u001b[0m\u001b[0mco_clustering\u001b[0m \u001b[0;32mimport\u001b[0m \u001b[0mCoClustering\u001b[0m\u001b[0;34m\u001b[0m\u001b[0;34m\u001b[0m\u001b[0m\n",
            "\u001b[0;32m/usr/local/lib/python3.11/dist-packages/surprise/prediction_algorithms/algo_base.py\u001b[0m in \u001b[0;36m<module>\u001b[0;34m\u001b[0m\n\u001b[1;32m      6\u001b[0m \u001b[0;32mimport\u001b[0m \u001b[0mheapq\u001b[0m\u001b[0;34m\u001b[0m\u001b[0;34m\u001b[0m\u001b[0m\n\u001b[1;32m      7\u001b[0m \u001b[0;34m\u001b[0m\u001b[0m\n\u001b[0;32m----> 8\u001b[0;31m \u001b[0;32mfrom\u001b[0m \u001b[0;34m.\u001b[0m\u001b[0;34m.\u001b[0m \u001b[0;32mimport\u001b[0m \u001b[0msimilarities\u001b[0m \u001b[0;32mas\u001b[0m \u001b[0msims\u001b[0m\u001b[0;34m\u001b[0m\u001b[0;34m\u001b[0m\u001b[0m\n\u001b[0m\u001b[1;32m      9\u001b[0m \u001b[0;32mfrom\u001b[0m \u001b[0;34m.\u001b[0m\u001b[0moptimize_baselines\u001b[0m \u001b[0;32mimport\u001b[0m \u001b[0mbaseline_als\u001b[0m\u001b[0;34m,\u001b[0m \u001b[0mbaseline_sgd\u001b[0m\u001b[0;34m\u001b[0m\u001b[0;34m\u001b[0m\u001b[0m\n\u001b[1;32m     10\u001b[0m \u001b[0;32mfrom\u001b[0m \u001b[0;34m.\u001b[0m\u001b[0mpredictions\u001b[0m \u001b[0;32mimport\u001b[0m \u001b[0mPrediction\u001b[0m\u001b[0;34m,\u001b[0m \u001b[0mPredictionImpossible\u001b[0m\u001b[0;34m\u001b[0m\u001b[0;34m\u001b[0m\u001b[0m\n",
            "\u001b[0;32m/usr/local/lib/python3.11/dist-packages/surprise/similarities.pyx\u001b[0m in \u001b[0;36minit surprise.similarities\u001b[0;34m()\u001b[0m\n",
            "\u001b[0;31mImportError\u001b[0m: numpy.core.multiarray failed to import (auto-generated because you didn't call 'numpy.import_array()' after cimporting numpy; use '<void>numpy._import_array' to disable if you are certain you don't need it).",
            "",
            "\u001b[0;31m---------------------------------------------------------------------------\u001b[0;32m\nNOTE: If your import is failing due to a missing package, you can\nmanually install dependencies using either !pip or !apt.\n\nTo view examples of installing some common dependencies, click the\n\"Open Examples\" button below.\n\u001b[0;31m---------------------------------------------------------------------------\u001b[0m\n"
          ],
          "errorDetails": {
            "actions": [
              {
                "action": "open_url",
                "actionText": "Open Examples",
                "url": "/notebooks/snippets/importing_libraries.ipynb"
              }
            ]
          }
        }
      ]
    },
    {
      "cell_type": "markdown",
      "metadata": {
        "id": "da12a0da"
      },
      "source": [
        "**Reasoning**:\n",
        "The previous command failed due to a NumPy version incompatibility with the surprise library. To resolve this, I will downgrade NumPy to a version compatible with surprise and then try to load the dataset again.\n",
        "\n"
      ]
    },
    {
      "cell_type": "code",
      "metadata": {
        "colab": {
          "base_uri": "https://localhost:8080/",
          "height": 1000
        },
        "id": "kcshkeMGPMS2",
        "outputId": "cbac1ebc-4555-4fc9-f8b9-92d3413b7dd1"
      },
      "source": [
        "%pip install numpy<2\n",
        "from surprise import Dataset, Reader\n",
        "\n",
        "reader = Reader(rating_scale=(1, 5))\n",
        "data = Dataset.load_builtin('ml-100k', reader)"
      ],
      "execution_count": 3,
      "outputs": [
        {
          "output_type": "stream",
          "name": "stdout",
          "text": [
            "/bin/bash: line 1: 2: No such file or directory\n"
          ]
        },
        {
          "output_type": "stream",
          "name": "stderr",
          "text": [
            "\n",
            "A module that was compiled using NumPy 1.x cannot be run in\n",
            "NumPy 2.0.2 as it may crash. To support both 1.x and 2.x\n",
            "versions of NumPy, modules must be compiled with NumPy 2.0.\n",
            "Some module may need to rebuild instead e.g. with 'pybind11>=2.12'.\n",
            "\n",
            "If you are a user of the module, the easiest solution will be to\n",
            "downgrade to 'numpy<2' or try to upgrade the affected module.\n",
            "We expect that some modules will need time to support NumPy 2.\n",
            "\n",
            "Traceback (most recent call last):  File \"<frozen runpy>\", line 198, in _run_module_as_main\n",
            "  File \"<frozen runpy>\", line 88, in _run_code\n",
            "  File \"/usr/local/lib/python3.11/dist-packages/colab_kernel_launcher.py\", line 37, in <module>\n",
            "    ColabKernelApp.launch_instance()\n",
            "  File \"/usr/local/lib/python3.11/dist-packages/traitlets/config/application.py\", line 992, in launch_instance\n",
            "    app.start()\n",
            "  File \"/usr/local/lib/python3.11/dist-packages/ipykernel/kernelapp.py\", line 712, in start\n",
            "    self.io_loop.start()\n",
            "  File \"/usr/local/lib/python3.11/dist-packages/tornado/platform/asyncio.py\", line 205, in start\n",
            "    self.asyncio_loop.run_forever()\n",
            "  File \"/usr/lib/python3.11/asyncio/base_events.py\", line 608, in run_forever\n",
            "    self._run_once()\n",
            "  File \"/usr/lib/python3.11/asyncio/base_events.py\", line 1936, in _run_once\n",
            "    handle._run()\n",
            "  File \"/usr/lib/python3.11/asyncio/events.py\", line 84, in _run\n",
            "    self._context.run(self._callback, *self._args)\n",
            "  File \"/usr/local/lib/python3.11/dist-packages/ipykernel/kernelbase.py\", line 510, in dispatch_queue\n",
            "    await self.process_one()\n",
            "  File \"/usr/local/lib/python3.11/dist-packages/ipykernel/kernelbase.py\", line 499, in process_one\n",
            "    await dispatch(*args)\n",
            "  File \"/usr/local/lib/python3.11/dist-packages/ipykernel/kernelbase.py\", line 406, in dispatch_shell\n",
            "    await result\n",
            "  File \"/usr/local/lib/python3.11/dist-packages/ipykernel/kernelbase.py\", line 730, in execute_request\n",
            "    reply_content = await reply_content\n",
            "  File \"/usr/local/lib/python3.11/dist-packages/ipykernel/ipkernel.py\", line 383, in do_execute\n",
            "    res = shell.run_cell(\n",
            "  File \"/usr/local/lib/python3.11/dist-packages/ipykernel/zmqshell.py\", line 528, in run_cell\n",
            "    return super().run_cell(*args, **kwargs)\n",
            "  File \"/usr/local/lib/python3.11/dist-packages/IPython/core/interactiveshell.py\", line 2975, in run_cell\n",
            "    result = self._run_cell(\n",
            "  File \"/usr/local/lib/python3.11/dist-packages/IPython/core/interactiveshell.py\", line 3030, in _run_cell\n",
            "    return runner(coro)\n",
            "  File \"/usr/local/lib/python3.11/dist-packages/IPython/core/async_helpers.py\", line 78, in _pseudo_sync_runner\n",
            "    coro.send(None)\n",
            "  File \"/usr/local/lib/python3.11/dist-packages/IPython/core/interactiveshell.py\", line 3257, in run_cell_async\n",
            "    has_raised = await self.run_ast_nodes(code_ast.body, cell_name,\n",
            "  File \"/usr/local/lib/python3.11/dist-packages/IPython/core/interactiveshell.py\", line 3473, in run_ast_nodes\n",
            "    if (await self.run_code(code, result,  async_=asy)):\n",
            "  File \"/usr/local/lib/python3.11/dist-packages/IPython/core/interactiveshell.py\", line 3553, in run_code\n",
            "    exec(code_obj, self.user_global_ns, self.user_ns)\n",
            "  File \"/tmp/ipython-input-3-3422935127.py\", line 2, in <cell line: 0>\n",
            "    from surprise import Dataset, Reader\n",
            "  File \"/usr/local/lib/python3.11/dist-packages/surprise/__init__.py\", line 6, in <module>\n",
            "    from .prediction_algorithms import (\n",
            "  File \"/usr/local/lib/python3.11/dist-packages/surprise/prediction_algorithms/__init__.py\", line 23, in <module>\n",
            "    from .algo_base import AlgoBase\n",
            "  File \"/usr/local/lib/python3.11/dist-packages/surprise/prediction_algorithms/algo_base.py\", line 8, in <module>\n",
            "    from .. import similarities as sims\n"
          ]
        },
        {
          "output_type": "error",
          "ename": "ImportError",
          "evalue": "numpy.core.multiarray failed to import (auto-generated because you didn't call 'numpy.import_array()' after cimporting numpy; use '<void>numpy._import_array' to disable if you are certain you don't need it).",
          "traceback": [
            "\u001b[0;31m---------------------------------------------------------------------------\u001b[0m",
            "\u001b[0;31mImportError\u001b[0m                               Traceback (most recent call last)",
            "\u001b[0;32m/tmp/ipython-input-3-3422935127.py\u001b[0m in \u001b[0;36m<cell line: 0>\u001b[0;34m()\u001b[0m\n\u001b[1;32m      1\u001b[0m \u001b[0mget_ipython\u001b[0m\u001b[0;34m(\u001b[0m\u001b[0;34m)\u001b[0m\u001b[0;34m.\u001b[0m\u001b[0mrun_line_magic\u001b[0m\u001b[0;34m(\u001b[0m\u001b[0;34m'pip'\u001b[0m\u001b[0;34m,\u001b[0m \u001b[0;34m'install numpy<2'\u001b[0m\u001b[0;34m)\u001b[0m\u001b[0;34m\u001b[0m\u001b[0;34m\u001b[0m\u001b[0m\n\u001b[0;32m----> 2\u001b[0;31m \u001b[0;32mfrom\u001b[0m \u001b[0msurprise\u001b[0m \u001b[0;32mimport\u001b[0m \u001b[0mDataset\u001b[0m\u001b[0;34m,\u001b[0m \u001b[0mReader\u001b[0m\u001b[0;34m\u001b[0m\u001b[0;34m\u001b[0m\u001b[0m\n\u001b[0m\u001b[1;32m      3\u001b[0m \u001b[0;34m\u001b[0m\u001b[0m\n\u001b[1;32m      4\u001b[0m \u001b[0mreader\u001b[0m \u001b[0;34m=\u001b[0m \u001b[0mReader\u001b[0m\u001b[0;34m(\u001b[0m\u001b[0mrating_scale\u001b[0m\u001b[0;34m=\u001b[0m\u001b[0;34m(\u001b[0m\u001b[0;36m1\u001b[0m\u001b[0;34m,\u001b[0m \u001b[0;36m5\u001b[0m\u001b[0;34m)\u001b[0m\u001b[0;34m)\u001b[0m\u001b[0;34m\u001b[0m\u001b[0;34m\u001b[0m\u001b[0m\n\u001b[1;32m      5\u001b[0m \u001b[0mdata\u001b[0m \u001b[0;34m=\u001b[0m \u001b[0mDataset\u001b[0m\u001b[0;34m.\u001b[0m\u001b[0mload_builtin\u001b[0m\u001b[0;34m(\u001b[0m\u001b[0;34m'ml-100k'\u001b[0m\u001b[0;34m,\u001b[0m \u001b[0mreader\u001b[0m\u001b[0;34m)\u001b[0m\u001b[0;34m\u001b[0m\u001b[0;34m\u001b[0m\u001b[0m\n",
            "\u001b[0;32m/usr/local/lib/python3.11/dist-packages/surprise/__init__.py\u001b[0m in \u001b[0;36m<module>\u001b[0;34m\u001b[0m\n\u001b[1;32m      4\u001b[0m \u001b[0;32mfrom\u001b[0m \u001b[0;34m.\u001b[0m\u001b[0mdataset\u001b[0m \u001b[0;32mimport\u001b[0m \u001b[0mDataset\u001b[0m\u001b[0;34m\u001b[0m\u001b[0;34m\u001b[0m\u001b[0m\n\u001b[1;32m      5\u001b[0m \u001b[0;34m\u001b[0m\u001b[0m\n\u001b[0;32m----> 6\u001b[0;31m from .prediction_algorithms import (\n\u001b[0m\u001b[1;32m      7\u001b[0m     \u001b[0mAlgoBase\u001b[0m\u001b[0;34m,\u001b[0m\u001b[0;34m\u001b[0m\u001b[0;34m\u001b[0m\u001b[0m\n\u001b[1;32m      8\u001b[0m     \u001b[0mBaselineOnly\u001b[0m\u001b[0;34m,\u001b[0m\u001b[0;34m\u001b[0m\u001b[0;34m\u001b[0m\u001b[0m\n",
            "\u001b[0;32m/usr/local/lib/python3.11/dist-packages/surprise/prediction_algorithms/__init__.py\u001b[0m in \u001b[0;36m<module>\u001b[0;34m\u001b[0m\n\u001b[1;32m     21\u001b[0m \"\"\"\n\u001b[1;32m     22\u001b[0m \u001b[0;34m\u001b[0m\u001b[0m\n\u001b[0;32m---> 23\u001b[0;31m \u001b[0;32mfrom\u001b[0m \u001b[0;34m.\u001b[0m\u001b[0malgo_base\u001b[0m \u001b[0;32mimport\u001b[0m \u001b[0mAlgoBase\u001b[0m\u001b[0;34m\u001b[0m\u001b[0;34m\u001b[0m\u001b[0m\n\u001b[0m\u001b[1;32m     24\u001b[0m \u001b[0;32mfrom\u001b[0m \u001b[0;34m.\u001b[0m\u001b[0mbaseline_only\u001b[0m \u001b[0;32mimport\u001b[0m \u001b[0mBaselineOnly\u001b[0m\u001b[0;34m\u001b[0m\u001b[0;34m\u001b[0m\u001b[0m\n\u001b[1;32m     25\u001b[0m \u001b[0;32mfrom\u001b[0m \u001b[0;34m.\u001b[0m\u001b[0mco_clustering\u001b[0m \u001b[0;32mimport\u001b[0m \u001b[0mCoClustering\u001b[0m\u001b[0;34m\u001b[0m\u001b[0;34m\u001b[0m\u001b[0m\n",
            "\u001b[0;32m/usr/local/lib/python3.11/dist-packages/surprise/prediction_algorithms/algo_base.py\u001b[0m in \u001b[0;36m<module>\u001b[0;34m\u001b[0m\n\u001b[1;32m      6\u001b[0m \u001b[0;32mimport\u001b[0m \u001b[0mheapq\u001b[0m\u001b[0;34m\u001b[0m\u001b[0;34m\u001b[0m\u001b[0m\n\u001b[1;32m      7\u001b[0m \u001b[0;34m\u001b[0m\u001b[0m\n\u001b[0;32m----> 8\u001b[0;31m \u001b[0;32mfrom\u001b[0m \u001b[0;34m.\u001b[0m\u001b[0;34m.\u001b[0m \u001b[0;32mimport\u001b[0m \u001b[0msimilarities\u001b[0m \u001b[0;32mas\u001b[0m \u001b[0msims\u001b[0m\u001b[0;34m\u001b[0m\u001b[0;34m\u001b[0m\u001b[0m\n\u001b[0m\u001b[1;32m      9\u001b[0m \u001b[0;32mfrom\u001b[0m \u001b[0;34m.\u001b[0m\u001b[0moptimize_baselines\u001b[0m \u001b[0;32mimport\u001b[0m \u001b[0mbaseline_als\u001b[0m\u001b[0;34m,\u001b[0m \u001b[0mbaseline_sgd\u001b[0m\u001b[0;34m\u001b[0m\u001b[0;34m\u001b[0m\u001b[0m\n\u001b[1;32m     10\u001b[0m \u001b[0;32mfrom\u001b[0m \u001b[0;34m.\u001b[0m\u001b[0mpredictions\u001b[0m \u001b[0;32mimport\u001b[0m \u001b[0mPrediction\u001b[0m\u001b[0;34m,\u001b[0m \u001b[0mPredictionImpossible\u001b[0m\u001b[0;34m\u001b[0m\u001b[0;34m\u001b[0m\u001b[0m\n",
            "\u001b[0;32m/usr/local/lib/python3.11/dist-packages/surprise/similarities.pyx\u001b[0m in \u001b[0;36minit surprise.similarities\u001b[0;34m()\u001b[0m\n",
            "\u001b[0;31mImportError\u001b[0m: numpy.core.multiarray failed to import (auto-generated because you didn't call 'numpy.import_array()' after cimporting numpy; use '<void>numpy._import_array' to disable if you are certain you don't need it).",
            "",
            "\u001b[0;31m---------------------------------------------------------------------------\u001b[0;32m\nNOTE: If your import is failing due to a missing package, you can\nmanually install dependencies using either !pip or !apt.\n\nTo view examples of installing some common dependencies, click the\n\"Open Examples\" button below.\n\u001b[0;31m---------------------------------------------------------------------------\u001b[0m\n"
          ],
          "errorDetails": {
            "actions": [
              {
                "action": "open_url",
                "actionText": "Open Examples",
                "url": "/notebooks/snippets/importing_libraries.ipynb"
              }
            ]
          }
        }
      ]
    },
    {
      "cell_type": "markdown",
      "metadata": {
        "id": "ff26ddd7"
      },
      "source": [
        "**Reasoning**:\n",
        "The previous command failed because the pip install command and the python code were in the same cell. This can cause issues with the kernel reloading the installed packages. I will split the commands into separate cells, first installing the correct version of numpy, and then running the python code to load the dataset.\n",
        "\n"
      ]
    },
    {
      "cell_type": "code",
      "metadata": {
        "colab": {
          "base_uri": "https://localhost:8080/",
          "height": 339
        },
        "id": "IQ-4r6CnPO6N",
        "outputId": "0b26e764-d8a7-41ae-95cb-f634fe63c754"
      },
      "source": [
        "%pip install numpy==1.26.4"
      ],
      "execution_count": 4,
      "outputs": [
        {
          "output_type": "stream",
          "name": "stdout",
          "text": [
            "Collecting numpy==1.26.4\n",
            "  Downloading numpy-1.26.4-cp311-cp311-manylinux_2_17_x86_64.manylinux2014_x86_64.whl.metadata (61 kB)\n",
            "\u001b[?25l     \u001b[90m━━━━━━━━━━━━━━━━━━━━━━━━━━━━━━━━━━━━━━━━\u001b[0m \u001b[32m0.0/61.0 kB\u001b[0m \u001b[31m?\u001b[0m eta \u001b[36m-:--:--\u001b[0m\r\u001b[2K     \u001b[90m━━━━━━━━━━━━━━━━━━━━━━━━━━━━━━━━━━━━━━━━\u001b[0m \u001b[32m61.0/61.0 kB\u001b[0m \u001b[31m2.8 MB/s\u001b[0m eta \u001b[36m0:00:00\u001b[0m\n",
            "\u001b[?25hDownloading numpy-1.26.4-cp311-cp311-manylinux_2_17_x86_64.manylinux2014_x86_64.whl (18.3 MB)\n",
            "\u001b[2K   \u001b[90m━━━━━━━━━━━━━━━━━━━━━━━━━━━━━━━━━━━━━━━━\u001b[0m \u001b[32m18.3/18.3 MB\u001b[0m \u001b[31m56.1 MB/s\u001b[0m eta \u001b[36m0:00:00\u001b[0m\n",
            "\u001b[?25hInstalling collected packages: numpy\n",
            "  Attempting uninstall: numpy\n",
            "    Found existing installation: numpy 2.0.2\n",
            "    Uninstalling numpy-2.0.2:\n",
            "      Successfully uninstalled numpy-2.0.2\n",
            "\u001b[31mERROR: pip's dependency resolver does not currently take into account all the packages that are installed. This behaviour is the source of the following dependency conflicts.\n",
            "thinc 8.3.6 requires numpy<3.0.0,>=2.0.0, but you have numpy 1.26.4 which is incompatible.\u001b[0m\u001b[31m\n",
            "\u001b[0mSuccessfully installed numpy-1.26.4\n"
          ]
        },
        {
          "output_type": "display_data",
          "data": {
            "application/vnd.colab-display-data+json": {
              "pip_warning": {
                "packages": [
                  "numpy"
                ]
              },
              "id": "d2a1067fd6f74afb8294d80464bccf7a"
            }
          },
          "metadata": {}
        }
      ]
    },
    {
      "cell_type": "markdown",
      "metadata": {
        "id": "a1442226"
      },
      "source": [
        "**Reasoning**:\n",
        "NumPy has been downgraded. Now I will try to load the dataset again using the surprise library.\n",
        "\n"
      ]
    },
    {
      "cell_type": "code",
      "metadata": {
        "colab": {
          "base_uri": "https://localhost:8080/"
        },
        "id": "f6a763ba",
        "outputId": "15feba99-d7f4-481c-da5c-baeb2df62348"
      },
      "source": [
        "from surprise import Dataset, Reader\n",
        "\n",
        "reader = Reader(rating_scale=(1, 5))\n",
        "data = Dataset.load_builtin('ml-100k', reader)"
      ],
      "execution_count": 1,
      "outputs": [
        {
          "output_type": "stream",
          "name": "stdout",
          "text": [
            "Dataset ml-100k could not be found. Do you want to download it? [Y/n] Y\n",
            "Trying to download dataset from https://files.grouplens.org/datasets/movielens/ml-100k.zip...\n",
            "Done! Dataset ml-100k has been saved to /root/.surprise_data/ml-100k\n"
          ]
        }
      ]
    },
    {
      "cell_type": "markdown",
      "metadata": {
        "id": "61552efe"
      },
      "source": [
        "## Data preparation\n",
        "\n",
        "### Subtask:\n",
        "Prepare the data in the format required by the `surprise` library.\n"
      ]
    },
    {
      "cell_type": "markdown",
      "metadata": {
        "id": "bf91605f"
      },
      "source": [
        "**Reasoning**:\n",
        "Prepare the data for training and testing by building the full training set and a test set from the loaded dataset, then print the number of users and items in the training set.\n",
        "\n"
      ]
    },
    {
      "cell_type": "code",
      "metadata": {
        "colab": {
          "base_uri": "https://localhost:8080/",
          "height": 211
        },
        "id": "549d8ccf",
        "outputId": "ae5b8fba-5023-423c-c099-cbdd6355c915"
      },
      "source": [
        "trainset = data.build_full_trainset()\n",
        "testset = data.build_testset()\n",
        "\n",
        "print('Number of users in the training set:', trainset.n_users)\n",
        "print('Number of items in the training set:', trainset.n_items)"
      ],
      "execution_count": 2,
      "outputs": [
        {
          "output_type": "error",
          "ename": "AttributeError",
          "evalue": "'DatasetAutoFolds' object has no attribute 'build_testset'",
          "traceback": [
            "\u001b[0;31m---------------------------------------------------------------------------\u001b[0m",
            "\u001b[0;31mAttributeError\u001b[0m                            Traceback (most recent call last)",
            "\u001b[0;32m/tmp/ipython-input-2-742508256.py\u001b[0m in \u001b[0;36m<cell line: 0>\u001b[0;34m()\u001b[0m\n\u001b[1;32m      1\u001b[0m \u001b[0mtrainset\u001b[0m \u001b[0;34m=\u001b[0m \u001b[0mdata\u001b[0m\u001b[0;34m.\u001b[0m\u001b[0mbuild_full_trainset\u001b[0m\u001b[0;34m(\u001b[0m\u001b[0;34m)\u001b[0m\u001b[0;34m\u001b[0m\u001b[0;34m\u001b[0m\u001b[0m\n\u001b[0;32m----> 2\u001b[0;31m \u001b[0mtestset\u001b[0m \u001b[0;34m=\u001b[0m \u001b[0mdata\u001b[0m\u001b[0;34m.\u001b[0m\u001b[0mbuild_testset\u001b[0m\u001b[0;34m(\u001b[0m\u001b[0;34m)\u001b[0m\u001b[0;34m\u001b[0m\u001b[0;34m\u001b[0m\u001b[0m\n\u001b[0m\u001b[1;32m      3\u001b[0m \u001b[0;34m\u001b[0m\u001b[0m\n\u001b[1;32m      4\u001b[0m \u001b[0mprint\u001b[0m\u001b[0;34m(\u001b[0m\u001b[0;34m'Number of users in the training set:'\u001b[0m\u001b[0;34m,\u001b[0m \u001b[0mtrainset\u001b[0m\u001b[0;34m.\u001b[0m\u001b[0mn_users\u001b[0m\u001b[0;34m)\u001b[0m\u001b[0;34m\u001b[0m\u001b[0;34m\u001b[0m\u001b[0m\n\u001b[1;32m      5\u001b[0m \u001b[0mprint\u001b[0m\u001b[0;34m(\u001b[0m\u001b[0;34m'Number of items in the training set:'\u001b[0m\u001b[0;34m,\u001b[0m \u001b[0mtrainset\u001b[0m\u001b[0;34m.\u001b[0m\u001b[0mn_items\u001b[0m\u001b[0;34m)\u001b[0m\u001b[0;34m\u001b[0m\u001b[0;34m\u001b[0m\u001b[0m\n",
            "\u001b[0;31mAttributeError\u001b[0m: 'DatasetAutoFolds' object has no attribute 'build_testset'"
          ]
        }
      ]
    },
    {
      "cell_type": "markdown",
      "metadata": {
        "id": "b8b54343"
      },
      "source": [
        "**Reasoning**:\n",
        "The error indicates that the `data` object, which is a `DatasetAutoFolds` object, does not have a `build_testset()` method. The `surprise` library's `Dataset.load_builtin()` method returns a `DatasetAutoFolds` object which is designed for cross-validation. To get a test set, we need to use the `build_full_trainset()` method to get the training set and then use the `build_testset()` method on the `trainset` object.\n",
        "\n"
      ]
    },
    {
      "cell_type": "code",
      "metadata": {
        "colab": {
          "base_uri": "https://localhost:8080/"
        },
        "id": "-fqmd27yPfTM",
        "outputId": "fb289b2f-ccd0-4e76-87e4-5dfc9c3748a5"
      },
      "source": [
        "trainset = data.build_full_trainset()\n",
        "testset = trainset.build_testset()\n",
        "\n",
        "print('Number of users in the training set:', trainset.n_users)\n",
        "print('Number of items in the training set:', trainset.n_items)"
      ],
      "execution_count": 3,
      "outputs": [
        {
          "output_type": "stream",
          "name": "stdout",
          "text": [
            "Number of users in the training set: 943\n",
            "Number of items in the training set: 1682\n"
          ]
        }
      ]
    },
    {
      "cell_type": "markdown",
      "metadata": {
        "id": "10093736"
      },
      "source": [
        "## Model training\n",
        "\n",
        "### Subtask:\n",
        "Train a collaborative filtering model (e.g., SVD or NMF) using the prepared data.\n"
      ]
    },
    {
      "cell_type": "markdown",
      "metadata": {
        "id": "5a282a86"
      },
      "source": [
        "**Reasoning**:\n",
        "Import the SVD algorithm, instantiate the SVD model, and train it on the training data.\n",
        "\n"
      ]
    },
    {
      "cell_type": "code",
      "metadata": {
        "colab": {
          "base_uri": "https://localhost:8080/"
        },
        "id": "c026b955",
        "outputId": "875acfb3-900f-4277-d308-e6704f985dd8"
      },
      "source": [
        "from surprise import SVD\n",
        "\n",
        "algo = SVD()\n",
        "algo.fit(trainset)"
      ],
      "execution_count": 4,
      "outputs": [
        {
          "output_type": "execute_result",
          "data": {
            "text/plain": [
              "<surprise.prediction_algorithms.matrix_factorization.SVD at 0x7d94fdd396d0>"
            ]
          },
          "metadata": {},
          "execution_count": 4
        }
      ]
    },
    {
      "cell_type": "markdown",
      "metadata": {
        "id": "bd438e96"
      },
      "source": [
        "## Model evaluation\n",
        "\n",
        "### Subtask:\n",
        "Evaluate the performance of the trained model using appropriate metrics (e.g., RMSE, MAE).\n"
      ]
    },
    {
      "cell_type": "markdown",
      "metadata": {
        "id": "557a0234"
      },
      "source": [
        "**Reasoning**:\n",
        "Import the necessary module for evaluating the model, make predictions on the test set using the trained model, and then calculate and print the RMSE and MAE to evaluate the model's performance.\n",
        "\n"
      ]
    },
    {
      "cell_type": "code",
      "metadata": {
        "colab": {
          "base_uri": "https://localhost:8080/"
        },
        "id": "023bf6e2",
        "outputId": "65e35fbe-1997-4221-9dcf-35787c50ab96"
      },
      "source": [
        "from surprise import accuracy\n",
        "\n",
        "predictions = algo.test(testset)\n",
        "\n",
        "rmse = accuracy.rmse(predictions)\n",
        "mae = accuracy.mae(predictions)\n",
        "\n",
        "print(f\"RMSE: {rmse}\")\n",
        "print(f\"MAE: {mae}\")"
      ],
      "execution_count": 5,
      "outputs": [
        {
          "output_type": "stream",
          "name": "stdout",
          "text": [
            "RMSE: 0.6770\n",
            "MAE:  0.5362\n",
            "RMSE: 0.6770050122505833\n",
            "MAE: 0.5362448447046323\n"
          ]
        }
      ]
    },
    {
      "cell_type": "markdown",
      "metadata": {
        "id": "1db62e93"
      },
      "source": [
        "## Recommendation generation\n",
        "\n",
        "### Subtask:\n",
        "Use the trained model to generate recommendations for a given user.\n"
      ]
    },
    {
      "cell_type": "markdown",
      "metadata": {
        "id": "db509f79"
      },
      "source": [
        "**Reasoning**:\n",
        "Define a user ID, get all item IDs, identify rated items, create a list of unrated items, predict ratings for unrated items, sort predictions, and print the top N recommendations.\n",
        "\n"
      ]
    },
    {
      "cell_type": "code",
      "metadata": {
        "colab": {
          "base_uri": "https://localhost:8080/",
          "height": 332
        },
        "id": "88b53cdd",
        "outputId": "c3780ee3-9418-47ab-b946-bfb59f6fe78c"
      },
      "source": [
        "user_id = '196' # Example user ID from ml-100k dataset\n",
        "all_item_ids = list(trainset.all_items())\n",
        "rated_items = [item_inner_id for user_inner_id, item_inner_id, rating in trainset.ir[trainset.to_inner_uid(user_id)]]\n",
        "\n",
        "unrated_item_ids = [item_id for item_id in all_item_ids if item_id not in rated_items]\n",
        "\n",
        "predictions = []\n",
        "for item_inner_id in unrated_item_ids:\n",
        "    item_id = trainset.to_raw_iid(item_inner_id)\n",
        "    prediction = algo.predict(user_id, item_id)\n",
        "    predictions.append((item_id, prediction.est))\n",
        "\n",
        "predictions.sort(key=lambda x: x[1], reverse=True)\n",
        "\n",
        "top_n = 10\n",
        "top_recommendations = predictions[:top_n]\n",
        "\n",
        "print(f\"Top {top_n} recommendations for user {user_id}:\")\n",
        "for item_id, predicted_rating in top_recommendations:\n",
        "    print(f\"Item: {item_id}, Predicted Rating: {predicted_rating:.2f}\")"
      ],
      "execution_count": 6,
      "outputs": [
        {
          "output_type": "error",
          "ename": "ValueError",
          "evalue": "not enough values to unpack (expected 3, got 2)",
          "traceback": [
            "\u001b[0;31m---------------------------------------------------------------------------\u001b[0m",
            "\u001b[0;31mValueError\u001b[0m                                Traceback (most recent call last)",
            "\u001b[0;32m/tmp/ipython-input-6-3711923270.py\u001b[0m in \u001b[0;36m<cell line: 0>\u001b[0;34m()\u001b[0m\n\u001b[1;32m      1\u001b[0m \u001b[0muser_id\u001b[0m \u001b[0;34m=\u001b[0m \u001b[0;34m'196'\u001b[0m \u001b[0;31m# Example user ID from ml-100k dataset\u001b[0m\u001b[0;34m\u001b[0m\u001b[0;34m\u001b[0m\u001b[0m\n\u001b[1;32m      2\u001b[0m \u001b[0mall_item_ids\u001b[0m \u001b[0;34m=\u001b[0m \u001b[0mlist\u001b[0m\u001b[0;34m(\u001b[0m\u001b[0mtrainset\u001b[0m\u001b[0;34m.\u001b[0m\u001b[0mall_items\u001b[0m\u001b[0;34m(\u001b[0m\u001b[0;34m)\u001b[0m\u001b[0;34m)\u001b[0m\u001b[0;34m\u001b[0m\u001b[0;34m\u001b[0m\u001b[0m\n\u001b[0;32m----> 3\u001b[0;31m \u001b[0mrated_items\u001b[0m \u001b[0;34m=\u001b[0m \u001b[0;34m[\u001b[0m\u001b[0mitem_inner_id\u001b[0m \u001b[0;32mfor\u001b[0m \u001b[0muser_inner_id\u001b[0m\u001b[0;34m,\u001b[0m \u001b[0mitem_inner_id\u001b[0m\u001b[0;34m,\u001b[0m \u001b[0mrating\u001b[0m \u001b[0;32min\u001b[0m \u001b[0mtrainset\u001b[0m\u001b[0;34m.\u001b[0m\u001b[0mir\u001b[0m\u001b[0;34m[\u001b[0m\u001b[0mtrainset\u001b[0m\u001b[0;34m.\u001b[0m\u001b[0mto_inner_uid\u001b[0m\u001b[0;34m(\u001b[0m\u001b[0muser_id\u001b[0m\u001b[0;34m)\u001b[0m\u001b[0;34m]\u001b[0m\u001b[0;34m]\u001b[0m\u001b[0;34m\u001b[0m\u001b[0;34m\u001b[0m\u001b[0m\n\u001b[0m\u001b[1;32m      4\u001b[0m \u001b[0;34m\u001b[0m\u001b[0m\n\u001b[1;32m      5\u001b[0m \u001b[0munrated_item_ids\u001b[0m \u001b[0;34m=\u001b[0m \u001b[0;34m[\u001b[0m\u001b[0mitem_id\u001b[0m \u001b[0;32mfor\u001b[0m \u001b[0mitem_id\u001b[0m \u001b[0;32min\u001b[0m \u001b[0mall_item_ids\u001b[0m \u001b[0;32mif\u001b[0m \u001b[0mitem_id\u001b[0m \u001b[0;32mnot\u001b[0m \u001b[0;32min\u001b[0m \u001b[0mrated_items\u001b[0m\u001b[0;34m]\u001b[0m\u001b[0;34m\u001b[0m\u001b[0;34m\u001b[0m\u001b[0m\n",
            "\u001b[0;32m/tmp/ipython-input-6-3711923270.py\u001b[0m in \u001b[0;36m<listcomp>\u001b[0;34m(.0)\u001b[0m\n\u001b[1;32m      1\u001b[0m \u001b[0muser_id\u001b[0m \u001b[0;34m=\u001b[0m \u001b[0;34m'196'\u001b[0m \u001b[0;31m# Example user ID from ml-100k dataset\u001b[0m\u001b[0;34m\u001b[0m\u001b[0;34m\u001b[0m\u001b[0m\n\u001b[1;32m      2\u001b[0m \u001b[0mall_item_ids\u001b[0m \u001b[0;34m=\u001b[0m \u001b[0mlist\u001b[0m\u001b[0;34m(\u001b[0m\u001b[0mtrainset\u001b[0m\u001b[0;34m.\u001b[0m\u001b[0mall_items\u001b[0m\u001b[0;34m(\u001b[0m\u001b[0;34m)\u001b[0m\u001b[0;34m)\u001b[0m\u001b[0;34m\u001b[0m\u001b[0;34m\u001b[0m\u001b[0m\n\u001b[0;32m----> 3\u001b[0;31m \u001b[0mrated_items\u001b[0m \u001b[0;34m=\u001b[0m \u001b[0;34m[\u001b[0m\u001b[0mitem_inner_id\u001b[0m \u001b[0;32mfor\u001b[0m \u001b[0muser_inner_id\u001b[0m\u001b[0;34m,\u001b[0m \u001b[0mitem_inner_id\u001b[0m\u001b[0;34m,\u001b[0m \u001b[0mrating\u001b[0m \u001b[0;32min\u001b[0m \u001b[0mtrainset\u001b[0m\u001b[0;34m.\u001b[0m\u001b[0mir\u001b[0m\u001b[0;34m[\u001b[0m\u001b[0mtrainset\u001b[0m\u001b[0;34m.\u001b[0m\u001b[0mto_inner_uid\u001b[0m\u001b[0;34m(\u001b[0m\u001b[0muser_id\u001b[0m\u001b[0;34m)\u001b[0m\u001b[0;34m]\u001b[0m\u001b[0;34m]\u001b[0m\u001b[0;34m\u001b[0m\u001b[0;34m\u001b[0m\u001b[0m\n\u001b[0m\u001b[1;32m      4\u001b[0m \u001b[0;34m\u001b[0m\u001b[0m\n\u001b[1;32m      5\u001b[0m \u001b[0munrated_item_ids\u001b[0m \u001b[0;34m=\u001b[0m \u001b[0;34m[\u001b[0m\u001b[0mitem_id\u001b[0m \u001b[0;32mfor\u001b[0m \u001b[0mitem_id\u001b[0m \u001b[0;32min\u001b[0m \u001b[0mall_item_ids\u001b[0m \u001b[0;32mif\u001b[0m \u001b[0mitem_id\u001b[0m \u001b[0;32mnot\u001b[0m \u001b[0;32min\u001b[0m \u001b[0mrated_items\u001b[0m\u001b[0;34m]\u001b[0m\u001b[0;34m\u001b[0m\u001b[0;34m\u001b[0m\u001b[0m\n",
            "\u001b[0;31mValueError\u001b[0m: not enough values to unpack (expected 3, got 2)"
          ]
        }
      ]
    },
    {
      "cell_type": "markdown",
      "metadata": {
        "id": "0ea7640e"
      },
      "source": [
        "**Reasoning**:\n",
        "The error \"ValueError: not enough values to unpack (expected 3, got 2)\" occurred when trying to unpack the items the user has rated. The `trainset.ir` attribute stores a list of tuples `(item_inner_id, rating)` for each user, not `(user_inner_id, item_inner_id, rating)`. The code needs to be corrected to unpack only `item_inner_id` and `rating`.\n",
        "\n"
      ]
    },
    {
      "cell_type": "code",
      "metadata": {
        "colab": {
          "base_uri": "https://localhost:8080/"
        },
        "id": "4emWCJioPray",
        "outputId": "a8dbdcc6-ff95-44e2-847a-09d1c047feae"
      },
      "source": [
        "user_id = '196' # Example user ID from ml-100k dataset\n",
        "all_item_ids = list(trainset.all_items())\n",
        "\n",
        "# Corrected: Unpack only item_inner_id and rating from trainset.ir\n",
        "rated_items = [item_inner_id for item_inner_id, rating in trainset.ir[trainset.to_inner_uid(user_id)]]\n",
        "\n",
        "unrated_item_ids = [item_id for item_id in all_item_ids if item_id not in rated_items]\n",
        "\n",
        "predictions = []\n",
        "for item_inner_id in unrated_item_ids:\n",
        "    item_id = trainset.to_raw_iid(item_inner_id)\n",
        "    prediction = algo.predict(user_id, item_id)\n",
        "    predictions.append((item_id, prediction.est))\n",
        "\n",
        "predictions.sort(key=lambda x: x[1], reverse=True)\n",
        "\n",
        "top_n = 10\n",
        "top_recommendations = predictions[:top_n]\n",
        "\n",
        "print(f\"Top {top_n} recommendations for user {user_id}:\")\n",
        "for item_id, predicted_rating in top_recommendations:\n",
        "    print(f\"Item: {item_id}, Predicted Rating: {predicted_rating:.2f}\")"
      ],
      "execution_count": 7,
      "outputs": [
        {
          "output_type": "stream",
          "name": "stdout",
          "text": [
            "Top 10 recommendations for user 196:\n",
            "Item: 114, Predicted Rating: 4.48\n",
            "Item: 657, Predicted Rating: 4.47\n",
            "Item: 483, Predicted Rating: 4.46\n",
            "Item: 178, Predicted Rating: 4.41\n",
            "Item: 98, Predicted Rating: 4.40\n",
            "Item: 474, Predicted Rating: 4.38\n",
            "Item: 963, Predicted Rating: 4.38\n",
            "Item: 187, Predicted Rating: 4.36\n",
            "Item: 427, Predicted Rating: 4.34\n",
            "Item: 12, Predicted Rating: 4.33\n"
          ]
        }
      ]
    },
    {
      "cell_type": "markdown",
      "metadata": {
        "id": "c4a67fc2"
      },
      "source": [
        "## Summary:\n",
        "\n",
        "### Data Analysis Key Findings\n",
        "\n",
        "*   The `surprise` library was successfully installed using `pip`.\n",
        "*   Loading the 'ml-100k' dataset from `surprise` required downgrading NumPy to version 1.26.4 due to compatibility issues with NumPy 2.0.2.\n",
        "*   Running package installation commands (`%pip install`) in separate code cells before executing code that depends on them is crucial in notebook environments.\n",
        "*   Data preparation for the `surprise` library involves building a full training set using `data.build_full_trainset()` and then building a test set from the resulting `trainset` using `trainset.build_testset()`.\n",
        "*   A Singular Value Decomposition (SVD) model was successfully trained on the prepared training data.\n",
        "*   The trained model's performance was evaluated, yielding an RMSE of approximately 0.6770 and an MAE of approximately 0.5362 on the test set.\n",
        "*   Generating recommendations requires identifying items the user has not yet rated, predicting ratings for these items using the trained model, and sorting the predictions to find the top recommendations.\n",
        "\n",
        "### Insights or Next Steps\n",
        "\n",
        "*   The RMSE and MAE values indicate the model has a reasonable level of accuracy in predicting user ratings, providing a baseline for further optimization or comparison with other algorithms.\n",
        "*   To make the recommendations more user-friendly, the item IDs ('1' to '1682') should be mapped back to their actual movie titles using the provided dataset's item information file.\n"
      ]
    },
    {
      "cell_type": "markdown",
      "metadata": {
        "id": "d02297e5"
      },
      "source": [
        "# Task\n",
        "Visualize the evaluation metrics (RMSE, MAE), top recommendations for a user, and predicted vs. actual ratings for a movie/book recommendation system built using collaborative filtering."
      ]
    },
    {
      "cell_type": "markdown",
      "metadata": {
        "id": "29d5312f"
      },
      "source": [
        "## Visualize evaluation metrics\n",
        "\n",
        "### Subtask:\n",
        "Create visualizations to represent the RMSE and MAE scores obtained during model evaluation.\n"
      ]
    },
    {
      "cell_type": "markdown",
      "metadata": {
        "id": "e2ced895"
      },
      "source": [
        "**Reasoning**:\n",
        "Create a bar plot to visualize the RMSE and MAE scores.\n",
        "\n"
      ]
    },
    {
      "cell_type": "code",
      "metadata": {
        "colab": {
          "base_uri": "https://localhost:8080/",
          "height": 391
        },
        "id": "4b2c6a3b",
        "outputId": "7c1c8405-e593-45cf-d751-ef9783015b29"
      },
      "source": [
        "import matplotlib.pyplot as plt\n",
        "\n",
        "metrics = ['RMSE', 'MAE']\n",
        "scores = [rmse, mae]\n",
        "\n",
        "plt.figure(figsize=(6, 4))\n",
        "plt.bar(metrics, scores, color=['skyblue', 'lightcoral'])\n",
        "plt.title(\"Model Evaluation Metrics\")\n",
        "plt.ylabel(\"Score\")\n",
        "plt.ylim(0, max(scores) + 0.1)\n",
        "plt.show()"
      ],
      "execution_count": 8,
      "outputs": [
        {
          "output_type": "display_data",
          "data": {
            "text/plain": [
              "<Figure size 600x400 with 1 Axes>"
            ],
            "image/png": "[encoded data removed]"
          },
          "metadata": {}
        }
      ]
    },
    {
      "cell_type": "markdown",
      "metadata": {
        "id": "20c142a9"
      },
      "source": [
        "## Visualize top recommendations\n",
        "\n",
        "### Subtask:\n",
        "Generate a visualization that presents the top recommendations for a specific user.\n"
      ]
    },
    {
      "cell_type": "markdown",
      "metadata": {
        "id": "55806989"
      },
      "source": [
        "**Reasoning**:\n",
        "Import the necessary library and create a bar plot to visualize the top recommendations for the specified user, as outlined in the instructions.\n",
        "\n"
      ]
    },
    {
      "cell_type": "code",
      "metadata": {
        "colab": {
          "base_uri": "https://localhost:8080/",
          "height": 607
        },
        "id": "727a74d6",
        "outputId": "9bd58115-92ff-4f08-b498-5fb0fbd4aa3c"
      },
      "source": [
        "import matplotlib.pyplot as plt\n",
        "\n",
        "item_ids = [item[0] for item in top_recommendations]\n",
        "predicted_ratings = [item[1] for item in top_recommendations]\n",
        "\n",
        "plt.figure(figsize=(10, 6))\n",
        "plt.bar(item_ids, predicted_ratings, color='skyblue')\n",
        "plt.title(f\"Top {top_n} Recommendations for User {user_id}\")\n",
        "plt.xlabel(\"Item ID\")\n",
        "plt.ylabel(\"Predicted Rating\")\n",
        "plt.xticks(rotation=45, ha='right')\n",
        "plt.tight_layout()\n",
        "plt.show()"
      ],
      "execution_count": 9,
      "outputs": [
        {
          "output_type": "display_data",
          "data": {
            "text/plain": [
              "<Figure size 1000x600 with 1 Axes>"
            ],
            "image/png": "[encoded data removed]"
          },
          "metadata": {}
        }
      ]
    },
    {
      "cell_type": "markdown",
      "metadata": {
        "id": "44dc4be1"
      },
      "source": [
        "## Visualize predicted vs. actual ratings\n",
        "\n",
        "### Subtask:\n",
        "Create a scatter plot to visualize the relationship between predicted and actual ratings for the test set.\n"
      ]
    },
    {
      "cell_type": "markdown",
      "metadata": {
        "id": "1569ba60"
      },
      "source": [
        "**Reasoning**:\n",
        "Extract actual and predicted ratings from the predictions and create a scatter plot to visualize their relationship, including a diagonal line for comparison and setting appropriate axis limits and labels.\n",
        "\n"
      ]
    },
    {
      "cell_type": "code",
      "metadata": {
        "colab": {
          "base_uri": "https://localhost:8080/",
          "height": 332
        },
        "id": "8832f152",
        "outputId": "ca6edb16-d2e3-400b-f35e-1aba4bc673be"
      },
      "source": [
        "import matplotlib.pyplot as plt\n",
        "\n",
        "actual_ratings = [pred.r_ui for pred in predictions]\n",
        "predicted_ratings = [pred.est for pred in predictions]\n",
        "\n",
        "plt.figure(figsize=(8, 6))\n",
        "plt.scatter(actual_ratings, predicted_ratings, alpha=0.5)\n",
        "plt.title(\"Predicted vs. Actual Ratings\")\n",
        "plt.xlabel(\"Actual Rating\")\n",
        "plt.ylabel(\"Predicted Rating\")\n",
        "plt.xlim(1, 5)\n",
        "plt.ylim(1, 5)\n",
        "plt.plot([1, 5], [1, 5], linestyle='--', color='red')\n",
        "plt.show()"
      ],
      "execution_count": 10,
      "outputs": [
        {
          "output_type": "error",
          "ename": "AttributeError",
          "evalue": "'tuple' object has no attribute 'r_ui'",
          "traceback": [
            "\u001b[0;31m---------------------------------------------------------------------------\u001b[0m",
            "\u001b[0;31mAttributeError\u001b[0m                            Traceback (most recent call last)",
            "\u001b[0;32m/tmp/ipython-input-10-170987260.py\u001b[0m in \u001b[0;36m<cell line: 0>\u001b[0;34m()\u001b[0m\n\u001b[1;32m      1\u001b[0m \u001b[0;32mimport\u001b[0m \u001b[0mmatplotlib\u001b[0m\u001b[0;34m.\u001b[0m\u001b[0mpyplot\u001b[0m \u001b[0;32mas\u001b[0m \u001b[0mplt\u001b[0m\u001b[0;34m\u001b[0m\u001b[0;34m\u001b[0m\u001b[0m\n\u001b[1;32m      2\u001b[0m \u001b[0;34m\u001b[0m\u001b[0m\n\u001b[0;32m----> 3\u001b[0;31m \u001b[0mactual_ratings\u001b[0m \u001b[0;34m=\u001b[0m \u001b[0;34m[\u001b[0m\u001b[0mpred\u001b[0m\u001b[0;34m.\u001b[0m\u001b[0mr_ui\u001b[0m \u001b[0;32mfor\u001b[0m \u001b[0mpred\u001b[0m \u001b[0;32min\u001b[0m \u001b[0mpredictions\u001b[0m\u001b[0;34m]\u001b[0m\u001b[0;34m\u001b[0m\u001b[0;34m\u001b[0m\u001b[0m\n\u001b[0m\u001b[1;32m      4\u001b[0m \u001b[0mpredicted_ratings\u001b[0m \u001b[0;34m=\u001b[0m \u001b[0;34m[\u001b[0m\u001b[0mpred\u001b[0m\u001b[0;34m.\u001b[0m\u001b[0mest\u001b[0m \u001b[0;32mfor\u001b[0m \u001b[0mpred\u001b[0m \u001b[0;32min\u001b[0m \u001b[0mpredictions\u001b[0m\u001b[0;34m]\u001b[0m\u001b[0;34m\u001b[0m\u001b[0;34m\u001b[0m\u001b[0m\n\u001b[1;32m      5\u001b[0m \u001b[0;34m\u001b[0m\u001b[0m\n",
            "\u001b[0;32m/tmp/ipython-input-10-170987260.py\u001b[0m in \u001b[0;36m<listcomp>\u001b[0;34m(.0)\u001b[0m\n\u001b[1;32m      1\u001b[0m \u001b[0;32mimport\u001b[0m \u001b[0mmatplotlib\u001b[0m\u001b[0;34m.\u001b[0m\u001b[0mpyplot\u001b[0m \u001b[0;32mas\u001b[0m \u001b[0mplt\u001b[0m\u001b[0;34m\u001b[0m\u001b[0;34m\u001b[0m\u001b[0m\n\u001b[1;32m      2\u001b[0m \u001b[0;34m\u001b[0m\u001b[0m\n\u001b[0;32m----> 3\u001b[0;31m \u001b[0mactual_ratings\u001b[0m \u001b[0;34m=\u001b[0m \u001b[0;34m[\u001b[0m\u001b[0mpred\u001b[0m\u001b[0;34m.\u001b[0m\u001b[0mr_ui\u001b[0m \u001b[0;32mfor\u001b[0m \u001b[0mpred\u001b[0m \u001b[0;32min\u001b[0m \u001b[0mpredictions\u001b[0m\u001b[0;34m]\u001b[0m\u001b[0;34m\u001b[0m\u001b[0;34m\u001b[0m\u001b[0m\n\u001b[0m\u001b[1;32m      4\u001b[0m \u001b[0mpredicted_ratings\u001b[0m \u001b[0;34m=\u001b[0m \u001b[0;34m[\u001b[0m\u001b[0mpred\u001b[0m\u001b[0;34m.\u001b[0m\u001b[0mest\u001b[0m \u001b[0;32mfor\u001b[0m \u001b[0mpred\u001b[0m \u001b[0;32min\u001b[0m \u001b[0mpredictions\u001b[0m\u001b[0;34m]\u001b[0m\u001b[0;34m\u001b[0m\u001b[0;34m\u001b[0m\u001b[0m\n\u001b[1;32m      5\u001b[0m \u001b[0;34m\u001b[0m\u001b[0m\n",
            "\u001b[0;31mAttributeError\u001b[0m: 'tuple' object has no attribute 'r_ui'"
          ]
        }
      ]
    },
    {
      "cell_type": "markdown",
      "metadata": {
        "id": "1912f910"
      },
      "source": [
        "**Reasoning**:\n",
        "The error indicates that the `predictions` list contains tuples instead of `Prediction` objects. This happened in a previous step where predictions for unrated items were generated and stored as tuples of `(item_id, predicted_rating)`. I need to regenerate the predictions on the test set which contains `Prediction` objects with `r_ui` and `est` attributes and then extract the actual and predicted ratings from this correct `predictions` list.\n",
        "\n"
      ]
    },
    {
      "cell_type": "code",
      "metadata": {
        "colab": {
          "base_uri": "https://localhost:8080/",
          "height": 564
        },
        "id": "SRK4eisAQD9d",
        "outputId": "dee7dfe6-f995-44b8-9e72-65ee9d03978d"
      },
      "source": [
        "import matplotlib.pyplot as plt\n",
        "\n",
        "predictions_testset = algo.test(testset)\n",
        "\n",
        "actual_ratings = [pred.r_ui for pred in predictions_testset]\n",
        "predicted_ratings = [pred.est for pred in predictions_testset]\n",
        "\n",
        "plt.figure(figsize=(8, 6))\n",
        "plt.scatter(actual_ratings, predicted_ratings, alpha=0.5)\n",
        "plt.title(\"Predicted vs. Actual Ratings\")\n",
        "plt.xlabel(\"Actual Rating\")\n",
        "plt.ylabel(\"Predicted Rating\")\n",
        "plt.xlim(1, 5)\n",
        "plt.ylim(1, 5)\n",
        "plt.plot([1, 5], [1, 5], linestyle='--', color='red')\n",
        "plt.show()"
      ],
      "execution_count": 11,
      "outputs": [
        {
          "output_type": "display_data",
          "data": {
            "text/plain": [
              "<Figure size 800x600 with 1 Axes>"
            ],
            "image/png": "[encoded data removed]"
          },
          "metadata": {}
        }
      ]
    },
    {
      "cell_type": "markdown",
      "metadata": {
        "id": "bc242686"
      },
      "source": [
        "## Summary:\n",
        "\n",
        "### Data Analysis Key Findings\n",
        "\n",
        "*   A bar plot was successfully generated to visualize the RMSE and MAE scores of the recommendation system model.\n",
        "*   A bar plot was created to display the predicted ratings for the top recommended items for a specific user.\n",
        "*   A scatter plot was generated to visualize the relationship between predicted and actual ratings from the test set, including a diagonal line representing perfect prediction.\n",
        "\n",
        "### Insights or Next Steps\n",
        "\n",
        "*   Analyze the scatter plot of predicted vs. actual ratings to identify potential biases in the model's predictions (e.g., consistently over- or under-predicting).\n",
        "*   Investigate recommended items with significantly different predicted ratings to understand the factors influencing these predictions.\n"
      ]
    },
    {
      "cell_type": "markdown",
      "metadata": {
        "id": "9370819f"
      },
      "source": [
        "## Summary of Recommendation System Project\n",
        "\n",
        "### Data Analysis Key Findings\n",
        "\n",
        "* The `surprise` library was successfully installed using `pip`.\n",
        "* Loading the 'ml-100k' dataset from `surprise` required downgrading NumPy to version 1.26.4 due to compatibility issues with NumPy 2.0.2.\n",
        "* Running package installation commands (`%pip install`) in separate code cells before executing code that depends on them is crucial in notebook environments.\n",
        "* Data preparation for the `surprise` library involves building a full training set using `data.build_full_trainset()` and then building a test set from the resulting `trainset` using `trainset.build_testset()`.\n",
        "* A Singular Value Decomposition (SVD) model was successfully trained on the prepared training data.\n",
        "* The trained model's performance was evaluated, yielding an RMSE of approximately 0.6770 and an MAE of approximately 0.5362 on the test set.\n",
        "* Generating recommendations requires identifying items the user has not yet rated, predicting ratings for these items using the trained model, and sorting the predictions to find the top recommendations.\n",
        "\n",
        "### Insights or Next Steps\n",
        "\n",
        "* The RMSE and MAE values indicate the model has a reasonable level of accuracy in predicting user ratings, providing a baseline for further optimization or comparison with other algorithms.\n",
        "* To make the recommendations more user-friendly, the item IDs ('1' to '1682') should be mapped back to their actual movie titles using the provided dataset's item information file.\n",
        "* Analyze the scatter plot of predicted vs. actual ratings to identify potential biases in the model's predictions (e.g., consistently over- or under-predicting).\n",
        "* Investigate recommended items with significantly different predicted ratings to understand the factors influencing these predictions.\n",
        "\n",
        "## Visualizations\n",
        "\n",
        "Here are the visualizations of the model's performance and recommendations:\n",
        "\n",
        "### Model Evaluation Metrics\n",
        "\n",
        "![Model Evaluation Metrics](model_evaluation_metrics.png)\n",
        "\n",
        "### Top Recommendations for a User\n",
        "\n",
        "![Top Recommendations](top_recommendations.png)\n",
        "\n",
        "### Predicted vs. Actual Ratings\n",
        "\n",
        "![Predicted vs Actual Ratings](predicted_vs_actual_ratings.png)"
      ]
    },
    {
      "cell_type": "code",
      "metadata": {
        "id": "e0fe5b6c"
      },
      "source": [
        "# Save the figures as image files\n",
        "\n",
        "# Save Model Evaluation Metrics plot\n",
        "plt.figure(figsize=(6, 4))\n",
        "plt.bar(metrics, scores, color=['skyblue', 'lightcoral'])\n",
        "plt.title(\"Model Evaluation Metrics\")\n",
        "plt.ylabel(\"Score\")\n",
        "plt.ylim(0, max(scores) + 0.1)\n",
        "plt.savefig(\"model_evaluation_metrics.png\")\n",
        "plt.close()\n",
        "\n",
        "# Save Top Recommendations plot\n",
        "item_ids_top_n = [item[0] for item in top_recommendations]\n",
        "predicted_ratings_top_n = [item[1] for item in top_recommendations]\n",
        "plt.figure(figsize=(10, 6))\n",
        "plt.bar(item_ids_top_n, predicted_ratings_top_n, color='skyblue')\n",
        "plt.title(f\"Top {top_n} Recommendations for User {user_id}\")\n",
        "plt.xlabel(\"Item ID\")\n",
        "plt.ylabel(\"Predicted Rating\")\n",
        "plt.xticks(rotation=45, ha='right')\n",
        "plt.tight_layout()\n",
        "plt.savefig(\"top_recommendations.png\")\n",
        "plt.close()\n",
        "\n",
        "# Save Predicted vs. Actual Ratings plot\n",
        "plt.figure(figsize=(8, 6))\n",
        "plt.scatter(actual_ratings, predicted_ratings, alpha=0.5)\n",
        "plt.title(\"Predicted vs. Actual Ratings\")\n",
        "plt.xlabel(\"Actual Rating\")\n",
        "plt.ylabel(\"Predicted Rating\")\n",
        "plt.xlim(1, 5)\n",
        "plt.ylim(1, 5)\n",
        "plt.plot([1, 5], [1, 5], linestyle='--', color='red')\n",
        "plt.savefig(\"predicted_vs_actual_ratings.png\")\n",
        "plt.close()"
      ],
      "execution_count": 13,
      "outputs": []
    }
  ]
}